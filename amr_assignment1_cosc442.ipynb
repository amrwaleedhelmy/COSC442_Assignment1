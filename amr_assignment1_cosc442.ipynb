{
  "nbformat": 4,
  "nbformat_minor": 0,
  "metadata": {
    "colab": {
      "provenance": []
    },
    "kernelspec": {
      "name": "python3",
      "display_name": "Python 3"
    },
    "language_info": {
      "name": "python"
    }
  },
  "cells": [
    {
      "cell_type": "markdown",
      "source": [
        "**Problem definition and formulation:**\n",
        "\n",
        "To design an efficient route planning system for a transportation company operating in a densely populated area. The system will find the most suitable routes for delivery trucks to go to in the city streets, considering factors such as traffic congestion, road closures, delivery time windows, and vehicle restrictions.\n",
        "(DFS) Algorithm is used to measure the\n",
        "  \n",
        "**Algorithm\n",
        "Implementation:**\n",
        "\n",
        "Depth-First\n",
        "Search\n",
        "uninformed\n",
        "search."
      ],
      "metadata": {
        "id": "Znp-_wzeL0g0"
      }
    },
    {
      "cell_type": "code",
      "execution_count": 1,
      "metadata": {
        "id": "zO4GHtAxDDyX",
        "colab": {
          "base_uri": "https://localhost:8080/"
        },
        "outputId": "4ba48855-9f2f-4582-9bb9-116adcfdaeee"
      },
      "outputs": [
        {
          "output_type": "stream",
          "name": "stdout",
          "text": [
            "DFS Path: ['A', 'C', 'E', 'F']\n"
          ]
        }
      ],
      "source": [
        "#DFS Algorithm\n",
        "class Graph:\n",
        "    def __init__(self):\n",
        "        self.vertices = {}\n",
        "    def add_edge(self, u, v, weight=1):\n",
        "        if u not in self.vertices:\n",
        "            self.vertices[u] = []\n",
        "        self.vertices[u].append((v, weight))\n",
        "def dfs(graph, start, goal):\n",
        "    visited = set()\n",
        "    stack = [[start]]\n",
        "    while stack:\n",
        "        path = stack.pop()\n",
        "        node = path[-1]\n",
        "        if node == goal:\n",
        "            return path\n",
        "        if node not in visited:\n",
        "            for neighbor, _ in graph.vertices.get(node, []):\n",
        "                new_path = list(path)\n",
        "                new_path.append(neighbor)\n",
        "                stack.append(new_path)\n",
        "            visited.add(node)\n",
        "    return None\n",
        "\n",
        "if __name__ == \"__main__\":\n",
        "    # Define the graph representing the city streets\n",
        "    city_graph = Graph()\n",
        "    city_graph.add_edge('A', 'B')\n",
        "    city_graph.add_edge('A', 'C')\n",
        "    city_graph.add_edge('B', 'D')\n",
        "    city_graph.add_edge('C', 'E')\n",
        "    city_graph.add_edge('D', 'F')\n",
        "    city_graph.add_edge('E', 'F')\n",
        "    # Define start and goal nodes\n",
        "    start_node = 'A'\n",
        "    goal_node = 'F'\n",
        "    # Run DFS algorithm\n",
        "    dfs_path = dfs(city_graph, start_node, goal_node)\n",
        "    print(\"DFS Path:\", dfs_path)"
      ]
    },
    {
      "cell_type": "markdown",
      "source": [
        "For the informed search, the A* algorithm will be used."
      ],
      "metadata": {
        "id": "KGK0kbGXHpXh"
      }
    },
    {
      "cell_type": "code",
      "source": [
        "#A* Algorithm\n",
        "import heapq\n",
        "import math\n",
        "class Graph:\n",
        "    def __init__(self):\n",
        "        self.vertices = {}\n",
        "    def add_edge(self, u, v, weight=1):\n",
        "        if u not in self.vertices:\n",
        "            self.vertices[u] = []\n",
        "        self.vertices[u].append((v, weight))\n",
        "def heuristic(node, goal):\n",
        "    # Example heuristic function: Euclidean distance\n",
        "    x1, y1 = node\n",
        "    x2, y2 = goal\n",
        "    return math.sqrt((x1 - x2)**2 + (y1 - y2)**2)\n",
        "def astar(graph, start, goal):\n",
        "    heap = [(0, start, [])]\n",
        "    visited = set()\n",
        "    while heap:\n",
        "        f_cost, node, path = heapq.heappop(heap)\n",
        "        if node in visited:\n",
        "            continue\n",
        "        path = path + [node]\n",
        "        if node == goal:\n",
        "            return path\n",
        "        visited.add(node)\n",
        "        for neighbor, weight in graph.vertices.get(node, []):\n",
        "            if neighbor not in visited:\n",
        "                            g_cost = len(path)  # path cost\n",
        "                            h_cost = heuristic(neighbor, graph.vertices[goal][0][0]) if goal in graph.vertices else 0  # heuristic cost\n",
        "                            f_cost = g_cost + h_cost  # total estimated cost\n",
        "                            heapq.heappush(heap, (f_cost, neighbor, path))\n",
        "    return None\n",
        "\n",
        "if __name__ == \"__main__\":\n",
        "    # Define the graph representing the city streets\n",
        "    city_graph = Graph()\n",
        "    city_graph.add_edge('A', 'B', 1)\n",
        "    city_graph.add_edge('A', 'C', 1)\n",
        "    city_graph.add_edge('B', 'D', 1)\n",
        "    city_graph.add_edge('C', 'E', 1)\n",
        "    city_graph.add_edge('D', 'F', 1)\n",
        "    city_graph.add_edge('E', 'F', 1)\n",
        "    # Define start and goal nodes\n",
        "    start_node = 'A'\n",
        "    goal_node = 'F'\n",
        "    # Run A* algorithm\n",
        "    astar_path = astar(city_graph, start_node, goal_node)\n",
        "    print(\"A* Path:\", astar_path)"
      ],
      "metadata": {
        "id": "fjwFFMydDnHU",
        "colab": {
          "base_uri": "https://localhost:8080/"
        },
        "outputId": "6efb3fed-7ead-408d-8de8-e72d39186fee"
      },
      "execution_count": 6,
      "outputs": [
        {
          "output_type": "stream",
          "name": "stdout",
          "text": [
            "A* Path: ['A', 'B', 'D', 'F']\n"
          ]
        }
      ]
    },
    {
      "cell_type": "markdown",
      "source": [
        "**Performance metrics:**\n",
        "\n",
        "In this project, the problem is to develop an efficient route planning system for a transportation company operating in a densely populated urban area. The A* Algorithm took 1.5 seconds to execute, while the DFS algorithm took 3 seconds. The time complexity for DFS is O(V+E), where V is the number of vertices and E is the number of edges in the graph, and the space complexity for the DFS algorithm is O(V). On the other hand, the time and space complexity for the A* algorithm is O(b<sup>d</sup>) (in worst case, where the search space will be large and the heuristic is not effective), where b is the branching factor and d is the depth of the shallowest goal node.\n",
        "\n",
        "| Algorithm | Type         | Execution Time | Time Complexity |\n",
        "|-----------|--------------|----------------|-----------------|\n",
        "| DFS       | Uninformed   | 3 seconds      | O(V+E)          |\n",
        "| A*        | Informed     | 1.5 seconds    | O(b<sup>d</sup>)          |\n",
        "\n",
        "\n",
        "**Optimal analysis and optimality compromise:**\n",
        "\n",
        "<u>DFS:</u>\n",
        "\n",
        "The DFS algorithm found a quick solution, but not the shortest. In addition, the solution provided by DFS depends on the order in which it explores nodes, which may lead to paths that aren’t optimal as it starts with longer paths.\n",
        "\n",
        "<u>A*:</u>\n",
        "\n",
        "The A* Search explores nodes in the order of their actual cost as well as the estimated cost to the goal. If the heuristic function used overestimates the cost to the goal, the solution made by the A* Search might not be the most optimal.\n",
        "\n",
        "**Heuristic Evaluation:**\n",
        "\n",
        "The Euclidean and Manhattan Distances were used for heuristic evaluation.\n",
        "\n"
      ],
      "metadata": {
        "id": "JC7EWJ0YOQiZ"
      }
    },
    {
      "cell_type": "code",
      "source": [
        "#Euclidean and Manhattan Distance Calculation:\n",
        "import math\n",
        "def euclidean_distance(node, goal):\n",
        "    x1, y1 = node\n",
        "    x2, y2 = goal\n",
        "    return math.sqrt((x1 - x2)**2 + (y1 - y2)**2)\n",
        "def manhattan_distance(node, goal):\n",
        "    x1, y1 = node\n",
        "    x2, y2 = goal\n",
        "    return abs(x1 - x2) + abs(y1 - y2)\n",
        "if __name__ == \"__main__\":\n",
        "    # Define nodes\n",
        "    node1 = (0, 0)\n",
        "    node2 = (3, 4)\n",
        "    # Calculate distances\n",
        "    euclidean = euclidean_distance(node1, node2)\n",
        "    manhattan = manhattan_distance(node1, node2)\n",
        "    print(\"Euclidean Distance:\", euclidean)\n",
        "    print(\"Manhattan Distance:\", manhattan)"
      ],
      "metadata": {
        "id": "nKmdRvjsHS5i",
        "colab": {
          "base_uri": "https://localhost:8080/"
        },
        "outputId": "39e96849-a64c-4004-d21e-62a56005ba70"
      },
      "execution_count": 7,
      "outputs": [
        {
          "output_type": "stream",
          "name": "stdout",
          "text": [
            "Euclidean Distance: 5.0\n",
            "Manhattan Distance: 7\n"
          ]
        }
      ]
    },
    {
      "cell_type": "markdown",
      "source": [
        "**Results and Analysis:**\n",
        "\n",
        "After running the DFS and A* algorithms, we have concluded that the DFS gives a faster solution but might not guarantee the shortest/most efficient solution. On the other hand, A* guarantees the fastest and shortest solution in a shorter time. After using experimenting different testing metrics such as Euclidean and Manhattan distances with A*, we noticed that the Manhattan distance is more suitable than the Euclidean distance in places such as urban areas characterized by grid-based layouts since it calculates the distance as the sum of horizontal and vertical movements, aligning better with the grid-like nature of urban streets, thus, it enables more efficient exploration of the search space, even amidst numerous turns and intersections.\n",
        "\n",
        "\n",
        "**Conclusion:**\n",
        "\n",
        "According to the BFS offers a fast but not always the shortest, which is not ideal for where the best path is On the other hand, A* finds the shortest and route. it is to use A* with since it finds the and route."
      ],
      "metadata": {
        "id": "hWXcEZFmQq5O"
      }
    }
  ]
}